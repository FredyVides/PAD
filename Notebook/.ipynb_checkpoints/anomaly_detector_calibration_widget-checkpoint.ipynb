{
 "cells": [
  {
   "cell_type": "code",
   "execution_count": 1,
   "id": "628473fe-2ab7-4301-b44f-0be92fe20552",
   "metadata": {},
   "outputs": [],
   "source": [
    "from matplotlib.pyplot import plot,subplot,show,grid,tight_layout, figure\n",
    "from numpy.linalg import svd\n",
    "from numpy import zeros, real, where, nan, append, ones, maximum\n",
    "from numpy.random import randn\n",
    "from scipy.linalg import hankel\n",
    "from pandas import read_excel,read_csv\n",
    "from statistics import mean, stdev\n",
    "import numpy as np\n",
    "import time"
   ]
  },
  {
   "cell_type": "code",
   "execution_count": 2,
   "id": "5a736040-bb91-4cc0-91d1-c4669f2751b3",
   "metadata": {},
   "outputs": [],
   "source": [
    "from ipywidgets import interact, interactive, fixed, interact_manual\n",
    "import ipywidgets as widgets"
   ]
  },
  {
   "cell_type": "code",
   "execution_count": 3,
   "id": "67dd05fb-6beb-4afa-80df-62d7c623412e",
   "metadata": {},
   "outputs": [],
   "source": [
    "def InversePowerMethod(A,tol, kIterMax,q0):\n",
    "    \n",
    "    import numpy as np\n",
    "    \n",
    "    n = A.shape[0]\n",
    "\n",
    "    x = np.random.rand(n).reshape(-1,1)\n",
    "\n",
    "    B = A.copy()\n",
    "\n",
    "    error = 1\n",
    "    \n",
    "    #First Run\n",
    "    for od in range(n):\n",
    "            B[od,od] = A[od,od] - q0\n",
    "        \n",
    "    x = np.linalg.solve(B,x)\n",
    "    x = x/np.linalg.norm(x)\n",
    "    lamOld = x.T@A@x\n",
    "    \n",
    "    kIter = 1\n",
    "    \n",
    "    while kIter < kIterMax:\n",
    "        \n",
    "        #od = on diagonal\n",
    "        for od in range(n):\n",
    "            B[od,od] = A[od,od] - q0\n",
    "        \n",
    "        x = np.linalg.solve(B,x)\n",
    "        x = x/np.linalg.norm(x)\n",
    "        lamNew = x.T@A@x\n",
    "        kIter = kIter + 1\n",
    "        \n",
    "        error = np.abs(lamNew - lamOld)\n",
    "        if error < tol:\n",
    "            return (x, lamNew, kIter)\n",
    "        else:\n",
    "            lamOld = lamNew\n",
    "        \n",
    "        \n",
    "        \n",
    "    return (x, lamNew, kIter)"
   ]
  },
  {
   "cell_type": "code",
   "execution_count": 4,
   "id": "b651eea1-dffd-49d5-a2a8-aa65302672f8",
   "metadata": {},
   "outputs": [],
   "source": [
    "def intermediateSVD(signal, L,N_hankel, figsize):\n",
    "        \n",
    "    x1 = signal.copy()\n",
    "    xm = mean(x1)\n",
    "    x0 = x1 - xm\n",
    "    H = hankel(x0[:L],x0[(L-1):N_hankel])\n",
    "\n",
    "\n",
    "    startTime = time.time()\n",
    "    u,s,v = svd(H,full_matrices=0)\n",
    "    p = u[:,-1]\n",
    "    sigma_min = s[-1]\n",
    "    \n",
    "    finishTime = time.time()\n",
    "    print(\"Time taken for SVD: {:.4f} seconds\".format(finishTime-startTime))\n",
    "\n",
    "    lp = len(p)\n",
    "    lx = len(x0)\n",
    "    N = lx-lp\n",
    "\n",
    "    \n",
    "    d0 = zeros(lx)\n",
    "    d1 = zeros(lx)\n",
    "\n",
    "    for k in range(N):\n",
    "        d0[k+lp-1] = abs(p.T@x0[(k):(k+lp)])\n",
    "        d1[N-k-1] = abs(p.T@x0[(lx-k-lp):(lx-k)])\n",
    "\n",
    "    std_d0 = stdev(d0)\n",
    "    std_d1 = stdev(d1)\n",
    "\n",
    "    return(d0,d1,std_d0,std_d1,x1,x0,xm,lp,lx,N,figsize)   "
   ]
  },
  {
   "cell_type": "code",
   "execution_count": 5,
   "id": "d1d084cf-fd56-407e-9301-a51d25f5f497",
   "metadata": {},
   "outputs": [],
   "source": [
    "def intermediateIPM(signal, L,N_hankel, tolIPM, kIterMax, q0, figsize):\n",
    "        \n",
    "    x1 = signal.copy()\n",
    "    xm = mean(x1)\n",
    "    x0 = x1 - xm\n",
    "    H = hankel(x0[:L],x0[(L-1):N_hankel])\n",
    "\n",
    "\n",
    "    startTime = time.time()\n",
    "    \n",
    "    H1 = H@H.T\n",
    "    p, lam, kIter = InversePowerMethod(A=H1, tol=tolIPM,\n",
    "                                      kIterMax = kIterMax,\n",
    "                                      q0 = q0)\n",
    "\n",
    "    \n",
    "    finishTime = time.time()\n",
    "    print(\"Number of iteration of IPM. kIter = {:d}\".format(kIter))\n",
    "    print(\"Time taken for IPM: {:.4f} seconds\".format(finishTime-startTime))\n",
    "\n",
    "    lp = len(p)\n",
    "    lx = len(x0)\n",
    "    N = lx-lp\n",
    "\n",
    "    \n",
    "    d0 = zeros(lx)\n",
    "    d1 = zeros(lx)\n",
    "\n",
    "    for k in range(N):\n",
    "        d0[k+lp-1] = abs(p.T@x0[(k):(k+lp)])\n",
    "        d1[N-k-1] = abs(p.T@x0[(lx-k-lp):(lx-k)])\n",
    "\n",
    "    std_d0 = stdev(d0)\n",
    "    std_d1 = stdev(d1)\n",
    "\n",
    "    return(d0,d1,std_d0,std_d1,x1,x0,xm,lp,lx,N,figsize)\n",
    "\n",
    "    "
   ]
  },
  {
   "cell_type": "code",
   "execution_count": 6,
   "id": "d321b339-c354-4cb1-b523-c8f976dd9e5d",
   "metadata": {},
   "outputs": [],
   "source": [
    "def calibration(tolerance,rest):\n",
    "    \n",
    "    d0,d1,std_d0,std_d1,x1,x0,xm,lp,lx,N,figsize = rest\n",
    "    \n",
    "    \n",
    "    threshold0 = tolerance*std_d0\n",
    "    threshold1 = tolerance*std_d1    \n",
    "    \n",
    "    d0 = (d0 >= threshold0)\n",
    "\n",
    "    d1 = (d1 >= threshold1)\n",
    "\n",
    "    d = d0*d1\n",
    "\n",
    "    di = where(d==1)\n",
    "    y = nan*ones(lx)\n",
    "    y[di] = x0[di]\n",
    "\n",
    "    figure(figsize =figsize)\n",
    "    ax1 = subplot(3,1,1)\n",
    "    plot(x1,'blue')\n",
    "    grid(color='k', linestyle='--', linewidth=0.5)\n",
    "    ax1.set_title('Signal', fontsize=12)\n",
    "    ax2 = subplot(3,1,2)\n",
    "    plot(d,'darkorange')\n",
    "    grid(color='k', linestyle='--', linewidth=0.5)\n",
    "    ax2.set_title('Identified scanning region', fontsize=12)\n",
    "    tight_layout()\n",
    "    ax2 = subplot(3,1,3)\n",
    "    plot(x1,'blue')\n",
    "    #plot(d*x1,'darkorange')\n",
    "    plot(d*x0+xm,'darkorange')\n",
    "    grid(color='k', linestyle='--', linewidth=0.5)\n",
    "    ax2.set_title('Identified anomalies', fontsize=12)\n",
    "    tight_layout()\n",
    "    show()"
   ]
  },
  {
   "cell_type": "markdown",
   "id": "c25f88af-d770-4bf0-853b-1949ec38d16b",
   "metadata": {},
   "source": [
    "# Read the signal"
   ]
  },
  {
   "cell_type": "markdown",
   "id": "43de9b93-c59c-475e-87f8-417632bd6b5a",
   "metadata": {},
   "source": [
    "### Let's define the figure size here"
   ]
  },
  {
   "cell_type": "code",
   "execution_count": 7,
   "id": "d6d8d7bb-3816-457e-9524-043586f316b6",
   "metadata": {},
   "outputs": [],
   "source": [
    "figsize = (13,7)"
   ]
  },
  {
   "cell_type": "markdown",
   "id": "d4e58771-d626-4921-9892-d1ea97b201bb",
   "metadata": {},
   "source": [
    "### Let's calibrate the first signal\n",
    "### First read the file that has the signal"
   ]
  },
  {
   "cell_type": "code",
   "execution_count": 8,
   "id": "36793761-2bf6-4839-9ab9-c6ae449c3395",
   "metadata": {},
   "outputs": [],
   "source": [
    "signal = read_csv('../Data/real_signal_1.csv', header = None)\n",
    "signal = signal.values.reshape(-1)"
   ]
  },
  {
   "cell_type": "markdown",
   "id": "cfed841c-10fb-4ef5-802f-a671640f2cc0",
   "metadata": {},
   "source": [
    "### Set some value for L and N_hankel here"
   ]
  },
  {
   "cell_type": "code",
   "execution_count": 9,
   "id": "08d05cc5-f44e-4987-a6d9-5675ef41c453",
   "metadata": {},
   "outputs": [],
   "source": [
    "L = 75\n",
    "N_hankel = 1300"
   ]
  },
  {
   "cell_type": "markdown",
   "id": "d0722105-8905-4833-8c71-023bd9a406cf",
   "metadata": {},
   "source": [
    "### The intermediate step is for the widget not recalculating the SVD decomposition, and only changing the sensitivity.\n",
    "### It's easier on the computer to only adjust with the widget the sensitivity and change manually the L and S in the cell before for the calibration"
   ]
  },
  {
   "cell_type": "markdown",
   "id": "2669c48f-9fc9-4803-a53f-34d4ffe83987",
   "metadata": {},
   "source": [
    "### Let's do it with the SVD Method"
   ]
  },
  {
   "cell_type": "code",
   "execution_count": 10,
   "id": "4ebdcbdc-e1d1-4be4-bc6b-961c59e532b1",
   "metadata": {},
   "outputs": [
    {
     "name": "stdout",
     "output_type": "stream",
     "text": [
      "Time taken for SVD: 0.0113 seconds\n"
     ]
    },
    {
     "data": {
      "application/vnd.jupyter.widget-view+json": {
       "model_id": "ae2ab8682f1a4692b9ac012d832fa49c",
       "version_major": 2,
       "version_minor": 0
      },
      "text/plain": [
       "interactive(children=(FloatSlider(value=1.2, description='tolerance', max=2.4, step=0.01), Output()), _dom_cla…"
      ]
     },
     "metadata": {},
     "output_type": "display_data"
    }
   ],
   "source": [
    "rest = intermediateSVD(signal = signal, L = L, N_hankel = N_hankel,\n",
    "                       figsize = figsize)\n",
    "interact(calibration, tolerance=(0,2.4,0.01),\n",
    "        rest = fixed(rest) );"
   ]
  },
  {
   "cell_type": "markdown",
   "id": "bca6c297-73f2-43c9-a6c6-bcbbc9676ecd",
   "metadata": {},
   "source": [
    "### Let's do it with the Inverse Power Method"
   ]
  },
  {
   "cell_type": "code",
   "execution_count": 11,
   "id": "11f3aa13-ea9e-49d9-99c5-50f7a74b7cf0",
   "metadata": {},
   "outputs": [],
   "source": [
    "L = 75\n",
    "N_hankel = 1300\n",
    "\n",
    "tolIPM = 1e-8\n",
    "kIterMax = 400\n",
    "#This q0 is an approximation to the lowest singular value\n",
    "#This can be estimated by other methods, but here we use it as known\n",
    "q0 = 38.6556 + 1e-5"
   ]
  },
  {
   "cell_type": "code",
   "execution_count": 12,
   "id": "4be31cf5-c2b7-4637-a542-28bc76d9e2dd",
   "metadata": {},
   "outputs": [
    {
     "name": "stdout",
     "output_type": "stream",
     "text": [
      "Number of iteration of IPM. kIter = 400\n",
      "Time taken for IPM: 0.1202 seconds\n"
     ]
    },
    {
     "data": {
      "application/vnd.jupyter.widget-view+json": {
       "model_id": "b3c8a54a6f8444bbbbc4a41320e869d2",
       "version_major": 2,
       "version_minor": 0
      },
      "text/plain": [
       "interactive(children=(FloatSlider(value=1.2, description='tolerance', max=2.4, step=0.01), Output()), _dom_cla…"
      ]
     },
     "metadata": {},
     "output_type": "display_data"
    }
   ],
   "source": [
    "rest = intermediateIPM(signal = signal, L = L, N_hankel = N_hankel,\n",
    "                       tolIPM = tolIPM,\n",
    "                       kIterMax = kIterMax,\n",
    "                       q0 = q0,\n",
    "                       figsize = figsize)\n",
    "interact(calibration, tolerance=(0,2.4,0.01),\n",
    "        rest = fixed(rest) );"
   ]
  },
  {
   "cell_type": "markdown",
   "id": "df01a0f6-7315-4c07-a3ea-0d87f87a23e8",
   "metadata": {},
   "source": [
    "## Let's do it with the second signal"
   ]
  },
  {
   "cell_type": "code",
   "execution_count": 13,
   "id": "86f026f9-af33-4938-8db9-6164bc4acec2",
   "metadata": {},
   "outputs": [],
   "source": [
    "signal = read_csv('../Data/real_signal_2.csv', header = None)\n",
    "signal = signal.values.reshape(-1)"
   ]
  },
  {
   "cell_type": "markdown",
   "id": "9ee60eb0-e3f4-49e9-a5e0-5578ba4cf4a1",
   "metadata": {},
   "source": [
    "### Set some value for L and N_hankel here"
   ]
  },
  {
   "cell_type": "code",
   "execution_count": 14,
   "id": "7297f9a6-ee60-4ef8-a113-78edc9fd8cb8",
   "metadata": {},
   "outputs": [],
   "source": [
    "L = 60\n",
    "N_hankel = 900"
   ]
  },
  {
   "cell_type": "markdown",
   "id": "1de1d1e8-514f-4c3b-b034-65c8cd30f117",
   "metadata": {},
   "source": [
    "### Let's do it with the SVD Method"
   ]
  },
  {
   "cell_type": "code",
   "execution_count": 15,
   "id": "86634458-ee69-4de7-927f-11aea24bd9ee",
   "metadata": {},
   "outputs": [
    {
     "name": "stdout",
     "output_type": "stream",
     "text": [
      "Time taken for SVD: 0.0126 seconds\n"
     ]
    },
    {
     "data": {
      "application/vnd.jupyter.widget-view+json": {
       "model_id": "ffaa39f432434382b83f188fed5b680c",
       "version_major": 2,
       "version_minor": 0
      },
      "text/plain": [
       "interactive(children=(FloatSlider(value=1.2, description='tolerance', max=2.4, step=0.01), Output()), _dom_cla…"
      ]
     },
     "metadata": {},
     "output_type": "display_data"
    }
   ],
   "source": [
    "rest = intermediateSVD(signal = signal, L = L, N_hankel = N_hankel,\n",
    "                       figsize = figsize)\n",
    "interact(calibration, tolerance=(0,2.4,0.01),\n",
    "        rest = fixed(rest) );"
   ]
  },
  {
   "cell_type": "markdown",
   "id": "8173f52d-aca3-4c97-a9e8-1b2eb93d03c2",
   "metadata": {},
   "source": [
    "### Let's do it now with the Inverse Power Method"
   ]
  },
  {
   "cell_type": "code",
   "execution_count": 16,
   "id": "7be3e2e6-5f2d-4934-8ae4-0fbbebf15aac",
   "metadata": {},
   "outputs": [],
   "source": [
    "L = 60\n",
    "N_hankel = 900\n",
    "\n",
    "tolIPM = 1e-8\n",
    "kIterMax = 400\n",
    "#This q0 is an approximation to the lowest singular value\n",
    "#This can be estimated by other methods, but here we use it as known\n",
    "q0 = 1.74632 + 1e-3 "
   ]
  },
  {
   "cell_type": "code",
   "execution_count": 17,
   "id": "3e97224a-1c92-4774-90dc-f20c4a6f2bbe",
   "metadata": {},
   "outputs": [
    {
     "name": "stdout",
     "output_type": "stream",
     "text": [
      "Number of iteration of IPM. kIter = 322\n",
      "Time taken for IPM: 0.1530 seconds\n"
     ]
    },
    {
     "data": {
      "application/vnd.jupyter.widget-view+json": {
       "model_id": "9f3fb7f0deda4315a0fefb89cd13c415",
       "version_major": 2,
       "version_minor": 0
      },
      "text/plain": [
       "interactive(children=(FloatSlider(value=1.2, description='tolerance', max=2.4, step=0.01), Output()), _dom_cla…"
      ]
     },
     "metadata": {},
     "output_type": "display_data"
    }
   ],
   "source": [
    "rest = intermediateIPM(signal = signal, L = L, N_hankel = N_hankel,\n",
    "                       tolIPM = tolIPM,\n",
    "                       kIterMax = kIterMax,\n",
    "                       q0 = q0,\n",
    "                       figsize = figsize)\n",
    "interact(calibration, tolerance=(0,2.4,0.01),\n",
    "        rest = fixed(rest) );"
   ]
  }
 ],
 "metadata": {
  "kernelspec": {
   "display_name": "Python 3 (ipykernel)",
   "language": "python",
   "name": "python3"
  },
  "language_info": {
   "codemirror_mode": {
    "name": "ipython",
    "version": 3
   },
   "file_extension": ".py",
   "mimetype": "text/x-python",
   "name": "python",
   "nbconvert_exporter": "python",
   "pygments_lexer": "ipython3",
   "version": "3.9.12"
  }
 },
 "nbformat": 4,
 "nbformat_minor": 5
}
