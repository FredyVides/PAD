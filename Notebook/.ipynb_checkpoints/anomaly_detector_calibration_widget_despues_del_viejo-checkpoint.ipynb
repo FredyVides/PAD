{
 "cells": [
  {
   "cell_type": "code",
   "execution_count": 3,
   "id": "b9305198-95d6-496b-b1ab-baf4744bdaed",
   "metadata": {},
   "outputs": [],
   "source": [
    "from matplotlib.pyplot import plot,subplot,show,grid,tight_layout, figure\n",
    "from numpy.linalg import svd\n",
    "from numpy import zeros, real, where, nan, append, ones\n",
    "from numpy.random import randn\n",
    "from scipy.linalg import hankel\n",
    "from pandas import read_excel,read_csv\n",
    "from statistics import mean,stdev\n",
    "import numpy as np\n",
    "import time"
   ]
  },
  {
   "cell_type": "code",
   "execution_count": 4,
   "id": "22c081bc-fb2b-4db3-be5f-1b6a5009ace7",
   "metadata": {},
   "outputs": [],
   "source": [
    "from ipywidgets import interact, interactive, fixed, interact_manual\n",
    "import ipywidgets as widgets"
   ]
  },
  {
   "cell_type": "code",
   "execution_count": 5,
   "id": "84a22e7c-11e4-4a23-81d5-07539c07894e",
   "metadata": {},
   "outputs": [],
   "source": [
    "def InversePowerMethodWhile(A,tol, kIterMax,q):\n",
    "    \n",
    "    import numpy as np\n",
    "    \n",
    "    n = A.shape[0]\n",
    "\n",
    "    x = np.zeros(n)\n",
    "    x[0] = 1\n",
    "    #x = np.random.rand(n).reshape(-1,1)\n",
    "\n",
    "    B = A.copy()\n",
    "\n",
    "    error = 1\n",
    "    \n",
    "    #First Run\n",
    "    for od in range(n):\n",
    "            B[od,od] = A[od,od] - q\n",
    "        \n",
    "    x = np.linalg.solve(B,x)\n",
    "    x = x/np.linalg.norm(x)\n",
    "    lamOld = x.T@A@x\n",
    "    \n",
    "    kIter = 1\n",
    "    \n",
    "    while kIter < kIterMax:\n",
    "        \n",
    "        #od = on diagonal\n",
    "        for od in range(n):\n",
    "            B[od,od] = A[od,od] - q\n",
    "        \n",
    "        x = np.linalg.solve(B,x)\n",
    "        x = x/np.linalg.norm(x)\n",
    "        lamNew = x.T@A@x\n",
    "        kIter = kIter + 1\n",
    "        \n",
    "        error = np.abs(lamNew - lamOld)\n",
    "        if error < tol:\n",
    "            return (x, lamNew, kIter)\n",
    "        else:\n",
    "            lamOld = lamNew\n",
    "        \n",
    "        \n",
    "        \n",
    "    return (x, lamNew, kIter)"
   ]
  },
  {
   "cell_type": "code",
   "execution_count": 6,
   "id": "5c1fb506-f18f-4a2c-9f9e-96250376c5c4",
   "metadata": {},
   "outputs": [],
   "source": [
    "def calibration(sensitivity,rest):\n",
    "    d0,d1,x1,x0,xm,lp,lx,N, figsize = rest\n",
    "    \n",
    "    threshold0 = sensitivity*stdev(d0)\n",
    "    threshold1 = sensitivity*stdev(d1)\n",
    "\n",
    "    d0 = (d0 >= threshold0)\n",
    "\n",
    "    d1 = (d1 >= threshold1)\n",
    "\n",
    "    d = d0*d1\n",
    "\n",
    "    di = where(d==1)\n",
    "    y = nan*ones(lx)\n",
    "    y[di] = x0[di]\n",
    "\n",
    "    figure(figsize =figsize)\n",
    "    ax1 = subplot(3,1,1)\n",
    "    plot(x1,'blue')\n",
    "    grid(color='k', linestyle='--', linewidth=0.5)\n",
    "    ax1.set_title('Signal', fontsize=12)\n",
    "    ax2 = subplot(3,1,2)\n",
    "    plot(d,'darkorange')\n",
    "    grid(color='k', linestyle='--', linewidth=0.5)\n",
    "    ax2.set_title('Identified scanning region', fontsize=12)\n",
    "    tight_layout()\n",
    "    ax2 = subplot(3,1,3)\n",
    "    plot(x1,'blue')\n",
    "    plot(d*x1,'darkorange')\n",
    "    grid(color='k', linestyle='--', linewidth=0.5)\n",
    "    ax2.set_title('Identified anomalies', fontsize=12)\n",
    "    tight_layout()\n",
    "    show()"
   ]
  },
  {
   "cell_type": "code",
   "execution_count": 11,
   "id": "cb5b15e1-87ec-40de-b52a-e108fdfd4564",
   "metadata": {},
   "outputs": [],
   "source": [
    "def intermediate(signal, L,S,method, figsize):\n",
    "        \n",
    "    x1 = signal.copy()\n",
    "    xm = mean(x1)\n",
    "    x0 = x1 - xm\n",
    "    H = hankel(x0[:L],x0[(L-1):S])\n",
    "\n",
    "\n",
    "    startTime = time.time()\n",
    "\n",
    "\n",
    "    if(method == \"SVD\"):\n",
    "        u,s,v = svd(H,full_matrices=0)\n",
    "        p = u[:,-1] \n",
    "    elif(method == \"IPM\"):\n",
    "        H1 = H@H.T\n",
    "        p, lam, kIter = InversePowerMethodWhile(A=H1, tol=1e-10, kIterMax = 200,q = 0.001)\n",
    "    \n",
    "    \n",
    "    finishTime = time.time()\n",
    "    print(\"Time taken: {:.4f} seconds\".format(finishTime-startTime))\n",
    "\n",
    "    lp = len(p)\n",
    "    lx = len(x0)\n",
    "    N = lx-lp\n",
    "\n",
    "    d0 = zeros(lx)\n",
    "    d1 = zeros(lx)\n",
    "\n",
    "    for k in range(N):\n",
    "        d0[k+lp-1] = abs(p.T@x0[(k):(k+lp)])\n",
    "        d1[N-k-1] = abs(p.T@x0[(lx-k-lp):(lx-k)])\n",
    "\n",
    "\n",
    "    return(d0,d1,x1,x0,xm,lp,lx,N,figsize)\n",
    "\n",
    "    "
   ]
  },
  {
   "cell_type": "markdown",
   "id": "17de36fe-1da6-4c4a-8c14-14a0990fdb23",
   "metadata": {},
   "source": [
    "## Read the signal"
   ]
  },
  {
   "cell_type": "markdown",
   "id": "13f51081-28b6-4d61-807d-ef088e635e7c",
   "metadata": {},
   "source": [
    "### First the real signal"
   ]
  },
  {
   "cell_type": "code",
   "execution_count": 12,
   "id": "700b6080-f7bc-40e9-9732-0799e93e951d",
   "metadata": {},
   "outputs": [],
   "source": [
    "signal = read_excel('../Data/real_signal_1.xls',index_col=None,sheet_name='Raw Data')\n",
    "signal = signal.values\n",
    "signal = signal[:,3]"
   ]
  },
  {
   "cell_type": "markdown",
   "id": "87766a12-6cad-491f-b2f8-54f1e9ed273a",
   "metadata": {},
   "source": [
    "### Set the L and S here"
   ]
  },
  {
   "cell_type": "code",
   "execution_count": 13,
   "id": "eb26333b-1ae9-4b43-b06d-8ca9524a718a",
   "metadata": {},
   "outputs": [],
   "source": [
    "L = 75\n",
    "S = 1300"
   ]
  },
  {
   "cell_type": "markdown",
   "id": "21f347a4-0560-4bc5-876e-921e8f3ad58b",
   "metadata": {},
   "source": [
    "### The intermediate step is for the widget not recalculating the last vector, and only changing the sensitivity.\n",
    "### It's easier on the computer to only adjust with the widget the sensitivity and change manually the L and S in the cell before for the calibration"
   ]
  },
  {
   "cell_type": "code",
   "execution_count": 17,
   "id": "47808f37-0be7-4f18-a186-78d6b90c0cff",
   "metadata": {},
   "outputs": [
    {
     "name": "stdout",
     "output_type": "stream",
     "text": [
      "Time taken: 0.0578 seconds\n"
     ]
    },
    {
     "data": {
      "application/vnd.jupyter.widget-view+json": {
       "model_id": "a56309a964d4480a9b82329a11941d0e",
       "version_major": 2,
       "version_minor": 0
      },
      "text/plain": [
       "interactive(children=(FloatSlider(value=1.0, description='sensitivity', max=3.0, step=0.02), Output()), _dom_c…"
      ]
     },
     "metadata": {},
     "output_type": "display_data"
    }
   ],
   "source": [
    "rest = intermediate(signal = signal, L = L, S = S,method = \"IPM\" ,  figsize = (12,8))\n",
    "interact(calibration, sensitivity=(0,3,0.02),\n",
    "        rest = fixed(rest) );"
   ]
  },
  {
   "cell_type": "markdown",
   "id": "45262a78-bbb0-4971-ab01-845a6ef4755d",
   "metadata": {},
   "source": [
    "### Again, now with the synthetic signal"
   ]
  },
  {
   "cell_type": "code",
   "execution_count": 42,
   "id": "80996f5e-2a06-4dff-b45b-0adb06e25887",
   "metadata": {},
   "outputs": [],
   "source": [
    "signal_s = read_csv('../Data/synthetic_signal.csv', header = None)\n",
    "signal_s = signal_s.values\n",
    "signal_s = signal_s[1,:]"
   ]
  },
  {
   "cell_type": "markdown",
   "id": "aac4955f-e494-45a3-a57e-0755a996a6ba",
   "metadata": {},
   "source": [
    "### Add the noise for the anomaly"
   ]
  },
  {
   "cell_type": "code",
   "execution_count": 43,
   "id": "d77c0e4e-d8fb-4fa3-94c9-8dea62f59caf",
   "metadata": {},
   "outputs": [],
   "source": [
    "P = [1800,3800,5100,10000,12000]\n",
    "scale = 5e-1\n",
    "signal_s[P[0]:(P[0]+300)] = signal_s[P[0]:(P[0]+300)] + scale*randn(300)\n",
    "signal_s[P[1]:(P[1]+300)] = signal_s[P[1]:(P[1]+300)] + scale*randn(300)\n",
    "signal_s[P[2]:(P[2]+300)] = signal_s[P[2]:(P[2]+300)] + scale*randn(300)\n",
    "signal_s[P[3]:(P[3]+300)] = signal_s[P[3]:(P[3]+300)] + scale*randn(300)\n",
    "signal_s[P[4]:(P[4]+300)] = signal_s[P[4]:(P[4]+300)] + scale*randn(300)"
   ]
  },
  {
   "cell_type": "markdown",
   "id": "963c4ba3-7291-4269-a52c-2b5c0bcfafb3",
   "metadata": {},
   "source": [
    "### Set values for L and S"
   ]
  },
  {
   "cell_type": "code",
   "execution_count": 44,
   "id": "2acb5e2e-e998-4c46-b03f-6005d86b1d98",
   "metadata": {},
   "outputs": [],
   "source": [
    "L = 300\n",
    "S = 1200"
   ]
  },
  {
   "cell_type": "markdown",
   "id": "6cf698e4-3bf0-4c1f-bf68-1f540e2de107",
   "metadata": {},
   "source": [
    "### Now calibrate the sensitivy"
   ]
  },
  {
   "cell_type": "code",
   "execution_count": 45,
   "id": "28caff39-055a-497a-8207-61aba5f61a54",
   "metadata": {},
   "outputs": [
    {
     "name": "stdout",
     "output_type": "stream",
     "text": [
      "Time taken for SVD: 0.0635 seconds\n"
     ]
    },
    {
     "data": {
      "application/vnd.jupyter.widget-view+json": {
       "model_id": "b9683b7300b9414d8069426f0701b962",
       "version_major": 2,
       "version_minor": 0
      },
      "text/plain": [
       "interactive(children=(FloatSlider(value=0.75, description='sensitivity', max=1.5, step=0.01), Output()), _dom_…"
      ]
     },
     "metadata": {},
     "output_type": "display_data"
    }
   ],
   "source": [
    "rest = intermediate(signal = signal_s, L = L, S = S, figsize = (12,8))\n",
    "interact(calibration, sensitivity=(0,1.5,0.01),\n",
    "        rest = fixed(rest) );"
   ]
  }
 ],
 "metadata": {
  "kernelspec": {
   "display_name": "Python 3 (ipykernel)",
   "language": "python",
   "name": "python3"
  },
  "language_info": {
   "codemirror_mode": {
    "name": "ipython",
    "version": 3
   },
   "file_extension": ".py",
   "mimetype": "text/x-python",
   "name": "python",
   "nbconvert_exporter": "python",
   "pygments_lexer": "ipython3",
   "version": "3.9.12"
  }
 },
 "nbformat": 4,
 "nbformat_minor": 5
}
