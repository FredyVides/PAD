{
 "cells": [
  {
   "cell_type": "code",
   "execution_count": 21,
   "id": "b9305198-95d6-496b-b1ab-baf4744bdaed",
   "metadata": {},
   "outputs": [],
   "source": [
    "from matplotlib.pyplot import plot,subplot,show,grid,tight_layout, figure\n",
    "from numpy.linalg import svd\n",
    "from numpy import zeros, real, where, nan, append, ones\n",
    "from numpy.random import randn\n",
    "from scipy.linalg import hankel\n",
    "from pandas import read_excel,read_csv\n",
    "from statistics import mean,stdev\n",
    "import numpy as np\n",
    "import time"
   ]
  },
  {
   "cell_type": "code",
   "execution_count": 22,
   "id": "22c081bc-fb2b-4db3-be5f-1b6a5009ace7",
   "metadata": {},
   "outputs": [],
   "source": [
    "from ipywidgets import interact, interactive, fixed, interact_manual\n",
    "import ipywidgets as widgets"
   ]
  },
  {
   "cell_type": "code",
   "execution_count": 33,
   "id": "5c1fb506-f18f-4a2c-9f9e-96250376c5c4",
   "metadata": {},
   "outputs": [],
   "source": [
    "def calibration(sensitivity,rest):\n",
    "    d0,d1,t,x1,x0,xm,lp,lx,N = rest\n",
    "    \n",
    "    threshold0 = sensitivity*stdev(d0)\n",
    "    threshold1 = sensitivity*stdev(d1)\n",
    "\n",
    "    d0 = (d0 >= threshold0)\n",
    "\n",
    "    d1 = (d1 >= threshold1)\n",
    "\n",
    "    d = d0*d1\n",
    "\n",
    "    di = where(d==1)\n",
    "    y = nan*ones(lx)\n",
    "    y[di] = x0[di]\n",
    "\n",
    "    figure(figsize =(12,8))\n",
    "    ax1 = subplot(3,1,1)\n",
    "    plot(x1,'r')\n",
    "    grid(color='k', linestyle='--', linewidth=0.5)\n",
    "    ax1.set_title('Signal', fontsize=12)\n",
    "    ax2 = subplot(3,1,2)\n",
    "    plot(d,'g')\n",
    "    grid(color='k', linestyle='--', linewidth=0.5)\n",
    "    ax2.set_title('Identified scanning region', fontsize=12)\n",
    "    tight_layout()\n",
    "    ax2 = subplot(3,1,3)\n",
    "    plot(x1,'r')\n",
    "    plot(y+xm,'g')\n",
    "    grid(color='k', linestyle='--', linewidth=0.5)\n",
    "    ax2.set_title('Identified anomalies', fontsize=12)\n",
    "    tight_layout()\n",
    "    show()"
   ]
  },
  {
   "cell_type": "code",
   "execution_count": 34,
   "id": "cb5b15e1-87ec-40de-b52a-e108fdfd4564",
   "metadata": {},
   "outputs": [],
   "source": [
    "def intermediate(signal, L,S):\n",
    "        \n",
    "    \n",
    "    X0 = signal.values\n",
    "\n",
    "    t = X0[:,0]\n",
    "    x1 = X0[:,3]\n",
    "\n",
    "\n",
    "    xm = mean(x1)\n",
    "    x0 = x1 - xm\n",
    "    H = hankel(x0[:L],x0[(L-1):S])\n",
    "\n",
    "\n",
    "    startTime = time.time()\n",
    "    u,s,v = svd(H,full_matrices=0)\n",
    "    p = u[:,-1]\n",
    "\n",
    "\n",
    "    finishTime = time.time()\n",
    "    print(\"Time taken for SVD: {:2f} seconds\".format(finishTime-startTime))\n",
    "\n",
    "    lp = len(p)\n",
    "    lx = len(x0)\n",
    "    N = lx-lp\n",
    "\n",
    "    d0 = zeros(lx)\n",
    "    d1 = zeros(lx)\n",
    "\n",
    "    for k in range(N):\n",
    "        d0[k] = abs(p.T@x0[(k):(k+lp)])\n",
    "        d1[N-k-1] = abs(p.T@x0[(lx-k-lp):(lx-k)])\n",
    "\n",
    "\n",
    "    return(d0,d1,t,x1,x0,xm,lp,lx,N)\n",
    "\n",
    "    "
   ]
  },
  {
   "cell_type": "markdown",
   "id": "87766a12-6cad-491f-b2f8-54f1e9ed273a",
   "metadata": {},
   "source": [
    "### Set the L and S here"
   ]
  },
  {
   "cell_type": "code",
   "execution_count": 35,
   "id": "eb26333b-1ae9-4b43-b06d-8ca9524a718a",
   "metadata": {},
   "outputs": [],
   "source": [
    "signal = read_excel('../Data/masajeador_2.xls',index_col=None,sheet_name='Raw Data')\n",
    "L = 75\n",
    "S = 1300"
   ]
  },
  {
   "cell_type": "markdown",
   "id": "21f347a4-0560-4bc5-876e-921e8f3ad58b",
   "metadata": {},
   "source": [
    "### The intermediate step is for the widget not recalculating the SVD decomposition, and only changing the sensitivity"
   ]
  },
  {
   "cell_type": "code",
   "execution_count": 36,
   "id": "47808f37-0be7-4f18-a186-78d6b90c0cff",
   "metadata": {},
   "outputs": [
    {
     "name": "stdout",
     "output_type": "stream",
     "text": [
      "Time taken for SVD: 0.020545 seconds\n"
     ]
    },
    {
     "data": {
      "application/vnd.jupyter.widget-view+json": {
       "model_id": "d789893d6a5c4a6da4de3967cdb80f37",
       "version_major": 2,
       "version_minor": 0
      },
      "text/plain": [
       "interactive(children=(FloatSlider(value=1.0, description='sensitivity', max=2.0, step=0.02), Output()), _dom_c…"
      ]
     },
     "metadata": {},
     "output_type": "display_data"
    }
   ],
   "source": [
    "rest = intermediate(signal = signal, L = L, S = S)\n",
    "interact(calibration, sensitivity=(0,2,0.02),\n",
    "        rest = fixed(rest) );"
   ]
  },
  {
   "cell_type": "code",
   "execution_count": null,
   "id": "c2d31040-d700-421a-b912-b791b8349280",
   "metadata": {},
   "outputs": [],
   "source": []
  },
  {
   "cell_type": "code",
   "execution_count": null,
   "id": "202cb1bd-9744-4b92-a5e4-18ab9528a5e5",
   "metadata": {},
   "outputs": [],
   "source": []
  }
 ],
 "metadata": {
  "kernelspec": {
   "display_name": "Python 3 (ipykernel)",
   "language": "python",
   "name": "python3"
  },
  "language_info": {
   "codemirror_mode": {
    "name": "ipython",
    "version": 3
   },
   "file_extension": ".py",
   "mimetype": "text/x-python",
   "name": "python",
   "nbconvert_exporter": "python",
   "pygments_lexer": "ipython3",
   "version": "3.9.12"
  }
 },
 "nbformat": 4,
 "nbformat_minor": 5
}
