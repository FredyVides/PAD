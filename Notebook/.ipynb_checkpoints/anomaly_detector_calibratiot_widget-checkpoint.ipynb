{
 "cells": [
  {
   "cell_type": "code",
   "execution_count": 1,
   "id": "b9305198-95d6-496b-b1ab-baf4744bdaed",
   "metadata": {},
   "outputs": [],
   "source": [
    "from matplotlib.pyplot import plot,subplot,show,grid,tight_layout, figure\n",
    "from numpy.linalg import svd\n",
    "from numpy import zeros, real, append, ones\n",
    "from numpy.random import randn\n",
    "from scipy.linalg import hankel\n",
    "from pandas import read_excel,read_csv\n",
    "from statistics import mean,stdev\n",
    "import numpy as np\n",
    "import time"
   ]
  },
  {
   "cell_type": "code",
   "execution_count": 2,
   "id": "22c081bc-fb2b-4db3-be5f-1b6a5009ace7",
   "metadata": {},
   "outputs": [],
   "source": [
    "from ipywidgets import interact, interactive, fixed, interact_manual\n",
    "import ipywidgets as widgets"
   ]
  },
  {
   "cell_type": "code",
   "execution_count": 3,
   "id": "c7959e3a-f004-48f1-8bbd-d9c4a80ec0d2",
   "metadata": {},
   "outputs": [],
   "source": [
    "def InversePowerMethodWhile(A,tol, kIterMax,q):\n",
    "    \n",
    "    import numpy as np\n",
    "    \n",
    "    n = A.shape[0]\n",
    "\n",
    "    x = np.zeros(n)\n",
    "    x[0] = 1\n",
    "    #x = np.random.rand(n).reshape(-1,1)\n",
    "\n",
    "    B = A.copy()\n",
    "\n",
    "    error = 1\n",
    "    \n",
    "    #First Run\n",
    "    for od in range(n):\n",
    "            B[od,od] = A[od,od] - q\n",
    "        \n",
    "    x = np.linalg.solve(B,x)\n",
    "    x = x/np.linalg.norm(x)\n",
    "    lamOld = x.T@A@x\n",
    "    \n",
    "    kIter = 1\n",
    "    \n",
    "    while kIter < kIterMax:\n",
    "        \n",
    "        #od = on diagonal\n",
    "        for od in range(n):\n",
    "            B[od,od] = A[od,od] - q\n",
    "        \n",
    "        x = np.linalg.solve(B,x)\n",
    "        x = x/np.linalg.norm(x)\n",
    "        lamNew = x.T@A@x\n",
    "        kIter = kIter + 1\n",
    "        \n",
    "        error = np.abs(lamNew - lamOld)\n",
    "        if error < tol:\n",
    "            return (x, lamNew, kIter)\n",
    "        else:\n",
    "            lamOld = lamNew\n",
    "        \n",
    "        \n",
    "        \n",
    "    return (x, lamNew, kIter)"
   ]
  },
  {
   "cell_type": "code",
   "execution_count": 4,
   "id": "5c1fb506-f18f-4a2c-9f9e-96250376c5c4",
   "metadata": {},
   "outputs": [],
   "source": [
    "def calibracion(sensitivity,resto):\n",
    "    d0,d1,t,x1,x0,xm,lp = resto\n",
    "    threshold0 = sensitivity*stdev(d0)\n",
    "    threshold1 = sensitivity*stdev(d1)\n",
    "\n",
    "    d = ones(lp)\n",
    "\n",
    "    d0 = (d0 >= threshold0)\n",
    "    d0 = append(d0,d)\n",
    "\n",
    "    d1 = (d1 >= threshold1)\n",
    "    d1 = append(d,d1)\n",
    "\n",
    "    d = d0*d1\n",
    "\n",
    "    figure(figsize =(12,8))\n",
    "    ax1 = subplot(3,1,1)\n",
    "    plot(x1,'r')\n",
    "    grid(color='k', linestyle='--', linewidth=0.5)\n",
    "    ax1.set_title('Signal', fontsize=12)\n",
    "\n",
    "    ax2 = subplot(3,1,2)\n",
    "    plot(d*x0+xm,'g')\n",
    "    grid(color='k', linestyle='--', linewidth=0.5)\n",
    "    ax2.set_title('Identified scanning region', fontsize=12)\n",
    "\n",
    "    ax3 = subplot(3,1,3)\n",
    "    plot(t,x1,t,d*x0+xm)\n",
    "    grid(color='k', linestyle='--', linewidth=0.5)\n",
    "    ax3.set_title('Both', fontsize=12)\n",
    "\n",
    "    tight_layout()\n",
    "    show()"
   ]
  },
  {
   "cell_type": "code",
   "execution_count": 18,
   "id": "cb5b15e1-87ec-40de-b52a-e108fdfd4564",
   "metadata": {},
   "outputs": [],
   "source": [
    "def intermedio(L,S,signal):\n",
    "    X = read_excel('datos_senales/'+signal,index_col=None,sheet_name='Raw Data')\n",
    "    X0 = X.values\n",
    "\n",
    "\n",
    "    t = X0[:,0]\n",
    "    x1 = X0[:,3]\n",
    "\n",
    "    #Forzarlo a cero, quitar esto\n",
    "    #x1[2000:2500] = 0\n",
    "\n",
    "    xm = mean(x1)\n",
    "    x0 = x1 - xm\n",
    "    H = hankel(x0[:L],x0[(L-1):S])\n",
    "\n",
    "\n",
    "\n",
    "    startTime = time.time()\n",
    "    u,s,v = svd(H,full_matrices=0)\n",
    "    p = u[:,-1]\n",
    "\n",
    "    #H1 = H.T@H\n",
    "    #p, lam, kIter = InversePowerMethodWhile(A=H1, tol=1e-10, kIterMax = 200,q = 0.001)\n",
    "\n",
    "    finishTime = time.time()\n",
    "    print(\"Tiempo tomado: {}\".format(finishTime-startTime))\n",
    "\n",
    "    lp = len(p)\n",
    "    lx = len(x0)\n",
    "    N = lx-lp\n",
    "\n",
    "    d0 = zeros(N)\n",
    "    #d1 = d0\n",
    "    d1 = zeros(N)\n",
    "\n",
    "    for k in range(N):\n",
    "        d0[k] = abs(p.T@x0[(k):(k+lp)])\n",
    "        #print(\"k={}, k+ lp ={}\".format(k, k+lp))\n",
    "        d1[N-k-1] = abs(p.T@x0[(lx-k-lp):(lx-k)])\n",
    "\n",
    "\n",
    "    return(d0,d1,t,x1,x0,xm,lp)\n",
    "\n",
    "    "
   ]
  },
  {
   "cell_type": "code",
   "execution_count": 23,
   "id": "47808f37-0be7-4f18-a186-78d6b90c0cff",
   "metadata": {},
   "outputs": [
    {
     "name": "stdout",
     "output_type": "stream",
     "text": [
      "Tiempo tomado: 0.008736848831176758\n"
     ]
    },
    {
     "data": {
      "application/vnd.jupyter.widget-view+json": {
       "model_id": "5d27f0ddd9094e828b4b5fc74e55c1cd",
       "version_major": 2,
       "version_minor": 0
      },
      "text/plain": [
       "interactive(children=(FloatSlider(value=1.0, description='sensitivity', max=2.0, step=0.02), Output()), _dom_c…"
      ]
     },
     "metadata": {},
     "output_type": "display_data"
    }
   ],
   "source": [
    "resto = intermedio(L = 75, S = 1300, signal = 'masajeador_1.xls')\n",
    "interact(calibracion, sensitivity=(0,2,0.02),\n",
    "        resto = fixed(resto) );"
   ]
  },
  {
   "cell_type": "code",
   "execution_count": null,
   "id": "c2d31040-d700-421a-b912-b791b8349280",
   "metadata": {},
   "outputs": [],
   "source": []
  },
  {
   "cell_type": "code",
   "execution_count": null,
   "id": "202cb1bd-9744-4b92-a5e4-18ab9528a5e5",
   "metadata": {},
   "outputs": [],
   "source": []
  }
 ],
 "metadata": {
  "kernelspec": {
   "display_name": "Python 3 (ipykernel)",
   "language": "python",
   "name": "python3"
  },
  "language_info": {
   "codemirror_mode": {
    "name": "ipython",
    "version": 3
   },
   "file_extension": ".py",
   "mimetype": "text/x-python",
   "name": "python",
   "nbconvert_exporter": "python",
   "pygments_lexer": "ipython3",
   "version": "3.9.12"
  }
 },
 "nbformat": 4,
 "nbformat_minor": 5
}
