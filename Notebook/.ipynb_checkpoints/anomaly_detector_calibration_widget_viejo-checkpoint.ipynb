{
 "cells": [
  {
   "cell_type": "code",
   "execution_count": 1,
   "id": "b9305198-95d6-496b-b1ab-baf4744bdaed",
   "metadata": {},
   "outputs": [],
   "source": [
    "from matplotlib.pyplot import plot,subplot,show,grid,tight_layout, figure\n",
    "from numpy.linalg import svd\n",
    "from numpy import zeros, real, append, ones\n",
    "from numpy.random import randn\n",
    "from scipy.linalg import hankel\n",
    "from pandas import read_excel,read_csv\n",
    "from statistics import mean,stdev\n",
    "import numpy as np\n",
    "import time"
   ]
  },
  {
   "cell_type": "code",
   "execution_count": 2,
   "id": "22c081bc-fb2b-4db3-be5f-1b6a5009ace7",
   "metadata": {},
   "outputs": [],
   "source": [
    "from ipywidgets import interact, interactive, fixed, interact_manual\n",
    "import ipywidgets as widgets"
   ]
  },
  {
   "cell_type": "code",
   "execution_count": 3,
   "id": "5c1fb506-f18f-4a2c-9f9e-96250376c5c4",
   "metadata": {},
   "outputs": [],
   "source": [
    "def calibration(sensitivity,rest):\n",
    "    d0,d1,x1,x0,xm,lp,figsize = rest\n",
    "    threshold0 = sensitivity*stdev(d0)\n",
    "    threshold1 = sensitivity*stdev(d1)\n",
    "\n",
    "    d = ones(lp)\n",
    "\n",
    "    d0 = (d0 >= threshold0)\n",
    "    d0 = append(d0,d)\n",
    "\n",
    "    d1 = (d1 >= threshold1)\n",
    "    d1 = append(d,d1)\n",
    "\n",
    "    d = d0*d1\n",
    "\n",
    "    figure(figsize = figsize)\n",
    "    ax1 = subplot(3,1,1)\n",
    "    plot(x1,'blue')\n",
    "    grid(color='k', linestyle='--', linewidth=0.5)\n",
    "    ax1.set_title('Signal', fontsize=12)\n",
    "\n",
    "    ax2 = subplot(3,1,2)\n",
    "    plot(d,'darkorange')\n",
    "    grid(color='k', linestyle='--', linewidth=0.5)\n",
    "    ax2.set_title('Identified scanning region', fontsize=12)\n",
    "\n",
    "    ax3 = subplot(3,1,3)\n",
    "    plot(x1,'blue',d*x0+xm,'darkorange')\n",
    "    grid(color='k', linestyle='--', linewidth=0.5)\n",
    "    ax3.set_title('Both', fontsize=12)\n",
    "\n",
    "    tight_layout()\n",
    "    show()"
   ]
  },
  {
   "cell_type": "code",
   "execution_count": 4,
   "id": "cb5b15e1-87ec-40de-b52a-e108fdfd4564",
   "metadata": {},
   "outputs": [],
   "source": [
    "def intermediate(signal, L,S, figsize):\n",
    "        \n",
    "    \n",
    "    x1 = signal.copy()\n",
    "    xm = mean(x1)\n",
    "    x0 = x1 - xm\n",
    "    H = hankel(x0[:L],x0[(L-1):S])\n",
    "\n",
    "\n",
    "    startTime = time.time()\n",
    "    u,s,v = svd(H,full_matrices=0)\n",
    "    p = u[:,-1]\n",
    "\n",
    "\n",
    "    finishTime = time.time()\n",
    "    print(\"Time taken for SVD: {:2f} seconds\".format(finishTime-startTime))\n",
    "\n",
    "    lp = len(p)\n",
    "    lx = len(x0)\n",
    "    N = lx-lp\n",
    "\n",
    "    d0 = zeros(N)\n",
    "    d1 = zeros(N)\n",
    "\n",
    "    for k in range(N):\n",
    "        d0[k] = abs(p.T@x0[(k):(k+lp)])\n",
    "        d1[N-k-1] = abs(p.T@x0[(lx-k-lp):(lx-k)])\n",
    "\n",
    "\n",
    "    return(d0,d1,x1,x0,xm,lp,figsize)\n",
    "\n",
    "    "
   ]
  },
  {
   "cell_type": "markdown",
   "id": "e1b3ff30-cb47-49b0-bcb9-0445046d5c13",
   "metadata": {},
   "source": [
    "## Read the signal"
   ]
  },
  {
   "cell_type": "markdown",
   "id": "251e344e-226d-400d-abdd-a7a069a39df3",
   "metadata": {},
   "source": [
    "### First the real signal"
   ]
  },
  {
   "cell_type": "code",
   "execution_count": 5,
   "id": "4f1267e1-eaaf-4553-800a-8000343dfe80",
   "metadata": {},
   "outputs": [],
   "source": [
    "signal = read_excel('../Data/real_signal_1.xls',index_col=None,sheet_name='Raw Data')\n",
    "signal = signal.values\n",
    "signal = signal[:,3]"
   ]
  },
  {
   "cell_type": "markdown",
   "id": "87766a12-6cad-491f-b2f8-54f1e9ed273a",
   "metadata": {},
   "source": [
    "### Set the L and S here"
   ]
  },
  {
   "cell_type": "code",
   "execution_count": 6,
   "id": "eb26333b-1ae9-4b43-b06d-8ca9524a718a",
   "metadata": {},
   "outputs": [],
   "source": [
    "L = 75\n",
    "S = 1300"
   ]
  },
  {
   "cell_type": "markdown",
   "id": "21f347a4-0560-4bc5-876e-921e8f3ad58b",
   "metadata": {},
   "source": [
    "### The intermediate step is for the widget not recalculating the SVD decomposition, and only changing the sensitivity.\n",
    "### It's easier on the computer to only adjust with the widget the sensitivity and change manually the L and S in the cell before for the calibration"
   ]
  },
  {
   "cell_type": "code",
   "execution_count": 7,
   "id": "47808f37-0be7-4f18-a186-78d6b90c0cff",
   "metadata": {},
   "outputs": [
    {
     "name": "stdout",
     "output_type": "stream",
     "text": [
      "Time taken for SVD: 0.050328 seconds\n"
     ]
    },
    {
     "data": {
      "application/vnd.jupyter.widget-view+json": {
       "model_id": "57f7e448af2f4cf9833b93f4e5355cc2",
       "version_major": 2,
       "version_minor": 0
      },
      "text/plain": [
       "interactive(children=(FloatSlider(value=1.0, description='sensitivity', max=2.0, step=0.02), Output()), _dom_c…"
      ]
     },
     "metadata": {},
     "output_type": "display_data"
    }
   ],
   "source": [
    "rest = intermediate(signal = signal, L = L, S = S, figsize = (12,8))\n",
    "interact(calibration, sensitivity=(0,2,0.02),\n",
    "        rest = fixed(rest) );"
   ]
  },
  {
   "cell_type": "markdown",
   "id": "b9111d8a-984e-49f4-b24b-cde073d0b787",
   "metadata": {},
   "source": [
    "### Again, now with the synthetic signal"
   ]
  },
  {
   "cell_type": "code",
   "execution_count": 13,
   "id": "c88cc3c6-5ee2-4e5e-810e-cd16544f5e24",
   "metadata": {},
   "outputs": [],
   "source": [
    "signal_s = read_csv('../Data/synthetic_signal.csv', header = None)\n",
    "signal_s = signal_s.values\n",
    "signal_s = signal_s[1,:]"
   ]
  },
  {
   "cell_type": "markdown",
   "id": "f54d91f2-31e1-4149-b954-06247b379d21",
   "metadata": {},
   "source": [
    "### Add the noise for the anomaly"
   ]
  },
  {
   "cell_type": "code",
   "execution_count": 14,
   "id": "9b790d75-ffa9-4514-bedd-0329c1a2ae91",
   "metadata": {},
   "outputs": [],
   "source": [
    "P = [1800,3800,5100,10000,12000]\n",
    "scale = 5e-1\n",
    "signal_s[P[0]:(P[0]+300)] = signal_s[P[0]:(P[0]+300)] + scale*randn(300)\n",
    "signal_s[P[1]:(P[1]+300)] = signal_s[P[1]:(P[1]+300)] + scale*randn(300)\n",
    "signal_s[P[2]:(P[2]+300)] = signal_s[P[2]:(P[2]+300)] + scale*randn(300)\n",
    "signal_s[P[3]:(P[3]+300)] = signal_s[P[3]:(P[3]+300)] + scale*randn(300)\n",
    "signal_s[P[4]:(P[4]+300)] = signal_s[P[4]:(P[4]+300)] + scale*randn(300)"
   ]
  },
  {
   "cell_type": "markdown",
   "id": "12d904ed-6969-45da-8ace-4553fa026c25",
   "metadata": {},
   "source": [
    "### Set values for L and S"
   ]
  },
  {
   "cell_type": "code",
   "execution_count": 15,
   "id": "249eee6c-55ed-45e3-8d14-3e76a2ba819a",
   "metadata": {},
   "outputs": [],
   "source": [
    "L = 300\n",
    "S = 1200"
   ]
  },
  {
   "cell_type": "code",
   "execution_count": 18,
   "id": "8921c5f9-866e-455e-9c16-cff5803b50dd",
   "metadata": {},
   "outputs": [
    {
     "name": "stdout",
     "output_type": "stream",
     "text": [
      "Time taken for SVD: 0.093456 seconds\n"
     ]
    },
    {
     "data": {
      "application/vnd.jupyter.widget-view+json": {
       "model_id": "b2af7a6589a34b9c9e5fc92322fe2363",
       "version_major": 2,
       "version_minor": 0
      },
      "text/plain": [
       "interactive(children=(FloatSlider(value=0.75, description='sensitivity', max=1.5, step=0.01), Output()), _dom_…"
      ]
     },
     "metadata": {},
     "output_type": "display_data"
    }
   ],
   "source": [
    "rest = intermediate(signal = signal_s, L = L, S = S, figsize = (12,8))\n",
    "interact(calibration, sensitivity=(0,1.5,0.01),\n",
    "        rest = fixed(rest) );"
   ]
  }
 ],
 "metadata": {
  "kernelspec": {
   "display_name": "Python 3 (ipykernel)",
   "language": "python",
   "name": "python3"
  },
  "language_info": {
   "codemirror_mode": {
    "name": "ipython",
    "version": 3
   },
   "file_extension": ".py",
   "mimetype": "text/x-python",
   "name": "python",
   "nbconvert_exporter": "python",
   "pygments_lexer": "ipython3",
   "version": "3.9.12"
  }
 },
 "nbformat": 4,
 "nbformat_minor": 5
}
